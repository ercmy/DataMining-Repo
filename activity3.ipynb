{
 "cells": [
  {
   "cell_type": "markdown",
   "id": "7cfa4277-6cf4-4865-bf23-acb726734fdb",
   "metadata": {},
   "source": [
    "<h1>United Kingdom Road Accident</h1>"
   ]
  },
  {
   "cell_type": "code",
   "execution_count": 1,
   "id": "d353332a-de76-4543-88fd-326a5a669c19",
   "metadata": {},
   "outputs": [],
   "source": [
    "import pandas as pd\n",
    "import numpy as np\n",
    "import seaborn as sns\n",
    "import matplotlib.pyplot as plt\n",
    "from scipy.stats import f_oneway\n",
    "import warnings\n",
    "warnings.filterwarnings('ignore')"
   ]
  },
  {
   "cell_type": "code",
   "execution_count": 2,
   "id": "cbdca5ce-5e99-4ca5-96f1-d439c261291a",
   "metadata": {},
   "outputs": [],
   "source": [
    "accident = pd.read_csv('dataset\\\\accident_data.csv')"
   ]
  },
  {
   "cell_type": "code",
   "execution_count": 3,
   "id": "fb9859a2-c8fe-4bb6-ad49-2fb6fe6ad59a",
   "metadata": {},
   "outputs": [
    {
     "data": {
      "text/html": [
       "<div>\n",
       "<style scoped>\n",
       "    .dataframe tbody tr th:only-of-type {\n",
       "        vertical-align: middle;\n",
       "    }\n",
       "\n",
       "    .dataframe tbody tr th {\n",
       "        vertical-align: top;\n",
       "    }\n",
       "\n",
       "    .dataframe thead th {\n",
       "        text-align: right;\n",
       "    }\n",
       "</style>\n",
       "<table border=\"1\" class=\"dataframe\">\n",
       "  <thead>\n",
       "    <tr style=\"text-align: right;\">\n",
       "      <th></th>\n",
       "      <th>Index</th>\n",
       "      <th>Accident_Severity</th>\n",
       "      <th>Accident Date</th>\n",
       "      <th>Latitude</th>\n",
       "      <th>Light_Conditions</th>\n",
       "      <th>District Area</th>\n",
       "      <th>Longitude</th>\n",
       "      <th>Number_of_Casualties</th>\n",
       "      <th>Number_of_Vehicles</th>\n",
       "      <th>Road_Surface_Conditions</th>\n",
       "      <th>Road_Type</th>\n",
       "      <th>Urban_or_Rural_Area</th>\n",
       "      <th>Weather_Conditions</th>\n",
       "      <th>Vehicle_Type</th>\n",
       "    </tr>\n",
       "  </thead>\n",
       "  <tbody>\n",
       "    <tr>\n",
       "      <th>0</th>\n",
       "      <td>200701BS64157</td>\n",
       "      <td>Serious</td>\n",
       "      <td>05/06/2019</td>\n",
       "      <td>51.506187</td>\n",
       "      <td>Darkness - lights lit</td>\n",
       "      <td>Kensington and Chelsea</td>\n",
       "      <td>-0.209082</td>\n",
       "      <td>1</td>\n",
       "      <td>2</td>\n",
       "      <td>Dry</td>\n",
       "      <td>Single carriageway</td>\n",
       "      <td>Urban</td>\n",
       "      <td>Fine no high winds</td>\n",
       "      <td>Car</td>\n",
       "    </tr>\n",
       "    <tr>\n",
       "      <th>1</th>\n",
       "      <td>200701BS65737</td>\n",
       "      <td>Serious</td>\n",
       "      <td>02/07/2019</td>\n",
       "      <td>51.495029</td>\n",
       "      <td>Daylight</td>\n",
       "      <td>Kensington and Chelsea</td>\n",
       "      <td>-0.173647</td>\n",
       "      <td>1</td>\n",
       "      <td>2</td>\n",
       "      <td>Wet or damp</td>\n",
       "      <td>Single carriageway</td>\n",
       "      <td>Urban</td>\n",
       "      <td>Raining no high winds</td>\n",
       "      <td>Car</td>\n",
       "    </tr>\n",
       "    <tr>\n",
       "      <th>2</th>\n",
       "      <td>200701BS66127</td>\n",
       "      <td>Serious</td>\n",
       "      <td>26/08/2019</td>\n",
       "      <td>51.517715</td>\n",
       "      <td>Darkness - lighting unknown</td>\n",
       "      <td>Kensington and Chelsea</td>\n",
       "      <td>-0.210215</td>\n",
       "      <td>1</td>\n",
       "      <td>3</td>\n",
       "      <td>Dry</td>\n",
       "      <td>NaN</td>\n",
       "      <td>Urban</td>\n",
       "      <td>NaN</td>\n",
       "      <td>Taxi/Private hire car</td>\n",
       "    </tr>\n",
       "    <tr>\n",
       "      <th>3</th>\n",
       "      <td>200701BS66128</td>\n",
       "      <td>Serious</td>\n",
       "      <td>16/08/2019</td>\n",
       "      <td>51.495478</td>\n",
       "      <td>Daylight</td>\n",
       "      <td>Kensington and Chelsea</td>\n",
       "      <td>-0.202731</td>\n",
       "      <td>1</td>\n",
       "      <td>4</td>\n",
       "      <td>Dry</td>\n",
       "      <td>Single carriageway</td>\n",
       "      <td>Urban</td>\n",
       "      <td>Fine no high winds</td>\n",
       "      <td>Bus or coach (17 or more pass seats)</td>\n",
       "    </tr>\n",
       "    <tr>\n",
       "      <th>4</th>\n",
       "      <td>200701BS66837</td>\n",
       "      <td>Slight</td>\n",
       "      <td>03/09/2019</td>\n",
       "      <td>51.488576</td>\n",
       "      <td>Darkness - lights lit</td>\n",
       "      <td>Kensington and Chelsea</td>\n",
       "      <td>-0.192487</td>\n",
       "      <td>1</td>\n",
       "      <td>2</td>\n",
       "      <td>Dry</td>\n",
       "      <td>NaN</td>\n",
       "      <td>Urban</td>\n",
       "      <td>NaN</td>\n",
       "      <td>Other vehicle</td>\n",
       "    </tr>\n",
       "    <tr>\n",
       "      <th>...</th>\n",
       "      <td>...</td>\n",
       "      <td>...</td>\n",
       "      <td>...</td>\n",
       "      <td>...</td>\n",
       "      <td>...</td>\n",
       "      <td>...</td>\n",
       "      <td>...</td>\n",
       "      <td>...</td>\n",
       "      <td>...</td>\n",
       "      <td>...</td>\n",
       "      <td>...</td>\n",
       "      <td>...</td>\n",
       "      <td>...</td>\n",
       "      <td>...</td>\n",
       "    </tr>\n",
       "    <tr>\n",
       "      <th>660674</th>\n",
       "      <td>201091NM01760</td>\n",
       "      <td>Slight</td>\n",
       "      <td>18/02/2022</td>\n",
       "      <td>57.374005</td>\n",
       "      <td>Daylight</td>\n",
       "      <td>Highland</td>\n",
       "      <td>-3.467828</td>\n",
       "      <td>2</td>\n",
       "      <td>1</td>\n",
       "      <td>Dry</td>\n",
       "      <td>Single carriageway</td>\n",
       "      <td>Rural</td>\n",
       "      <td>Fine no high winds</td>\n",
       "      <td>Car</td>\n",
       "    </tr>\n",
       "    <tr>\n",
       "      <th>660675</th>\n",
       "      <td>201091NM01881</td>\n",
       "      <td>Slight</td>\n",
       "      <td>21/02/2022</td>\n",
       "      <td>57.232273</td>\n",
       "      <td>Darkness - no lighting</td>\n",
       "      <td>Highland</td>\n",
       "      <td>-3.809281</td>\n",
       "      <td>1</td>\n",
       "      <td>1</td>\n",
       "      <td>Frost or ice</td>\n",
       "      <td>Single carriageway</td>\n",
       "      <td>Rural</td>\n",
       "      <td>Fine no high winds</td>\n",
       "      <td>Car</td>\n",
       "    </tr>\n",
       "    <tr>\n",
       "      <th>660676</th>\n",
       "      <td>201091NM01935</td>\n",
       "      <td>Slight</td>\n",
       "      <td>23/02/2022</td>\n",
       "      <td>57.585044</td>\n",
       "      <td>Daylight</td>\n",
       "      <td>Highland</td>\n",
       "      <td>-3.862727</td>\n",
       "      <td>1</td>\n",
       "      <td>3</td>\n",
       "      <td>Frost or ice</td>\n",
       "      <td>Single carriageway</td>\n",
       "      <td>Rural</td>\n",
       "      <td>Fine no high winds</td>\n",
       "      <td>Car</td>\n",
       "    </tr>\n",
       "    <tr>\n",
       "      <th>660677</th>\n",
       "      <td>201091NM01964</td>\n",
       "      <td>Serious</td>\n",
       "      <td>23/02/2022</td>\n",
       "      <td>57.214898</td>\n",
       "      <td>Darkness - no lighting</td>\n",
       "      <td>Highland</td>\n",
       "      <td>-3.823997</td>\n",
       "      <td>1</td>\n",
       "      <td>2</td>\n",
       "      <td>Wet or damp</td>\n",
       "      <td>Single carriageway</td>\n",
       "      <td>Rural</td>\n",
       "      <td>Fine no high winds</td>\n",
       "      <td>Motorcycle over 500cc</td>\n",
       "    </tr>\n",
       "    <tr>\n",
       "      <th>660678</th>\n",
       "      <td>201091NM02142</td>\n",
       "      <td>Serious</td>\n",
       "      <td>28/02/2022</td>\n",
       "      <td>57.575210</td>\n",
       "      <td>Daylight</td>\n",
       "      <td>Highland</td>\n",
       "      <td>-3.895673</td>\n",
       "      <td>1</td>\n",
       "      <td>1</td>\n",
       "      <td>Wet or damp</td>\n",
       "      <td>Dual carriageway</td>\n",
       "      <td>Rural</td>\n",
       "      <td>Snowing no high winds</td>\n",
       "      <td>Car</td>\n",
       "    </tr>\n",
       "  </tbody>\n",
       "</table>\n",
       "<p>660679 rows × 14 columns</p>\n",
       "</div>"
      ],
      "text/plain": [
       "                Index Accident_Severity Accident Date   Latitude  \\\n",
       "0       200701BS64157           Serious    05/06/2019  51.506187   \n",
       "1       200701BS65737           Serious    02/07/2019  51.495029   \n",
       "2       200701BS66127           Serious    26/08/2019  51.517715   \n",
       "3       200701BS66128           Serious    16/08/2019  51.495478   \n",
       "4       200701BS66837            Slight    03/09/2019  51.488576   \n",
       "...               ...               ...           ...        ...   \n",
       "660674  201091NM01760            Slight    18/02/2022  57.374005   \n",
       "660675  201091NM01881            Slight    21/02/2022  57.232273   \n",
       "660676  201091NM01935            Slight    23/02/2022  57.585044   \n",
       "660677  201091NM01964           Serious    23/02/2022  57.214898   \n",
       "660678  201091NM02142           Serious    28/02/2022  57.575210   \n",
       "\n",
       "                   Light_Conditions           District Area  Longitude  \\\n",
       "0             Darkness - lights lit  Kensington and Chelsea  -0.209082   \n",
       "1                          Daylight  Kensington and Chelsea  -0.173647   \n",
       "2       Darkness - lighting unknown  Kensington and Chelsea  -0.210215   \n",
       "3                          Daylight  Kensington and Chelsea  -0.202731   \n",
       "4             Darkness - lights lit  Kensington and Chelsea  -0.192487   \n",
       "...                             ...                     ...        ...   \n",
       "660674                     Daylight                Highland  -3.467828   \n",
       "660675       Darkness - no lighting                Highland  -3.809281   \n",
       "660676                     Daylight                Highland  -3.862727   \n",
       "660677       Darkness - no lighting                Highland  -3.823997   \n",
       "660678                     Daylight                Highland  -3.895673   \n",
       "\n",
       "        Number_of_Casualties  Number_of_Vehicles Road_Surface_Conditions  \\\n",
       "0                          1                   2                     Dry   \n",
       "1                          1                   2             Wet or damp   \n",
       "2                          1                   3                     Dry   \n",
       "3                          1                   4                     Dry   \n",
       "4                          1                   2                     Dry   \n",
       "...                      ...                 ...                     ...   \n",
       "660674                     2                   1                     Dry   \n",
       "660675                     1                   1            Frost or ice   \n",
       "660676                     1                   3            Frost or ice   \n",
       "660677                     1                   2             Wet or damp   \n",
       "660678                     1                   1             Wet or damp   \n",
       "\n",
       "                 Road_Type Urban_or_Rural_Area     Weather_Conditions  \\\n",
       "0       Single carriageway               Urban     Fine no high winds   \n",
       "1       Single carriageway               Urban  Raining no high winds   \n",
       "2                      NaN               Urban                    NaN   \n",
       "3       Single carriageway               Urban     Fine no high winds   \n",
       "4                      NaN               Urban                    NaN   \n",
       "...                    ...                 ...                    ...   \n",
       "660674  Single carriageway               Rural     Fine no high winds   \n",
       "660675  Single carriageway               Rural     Fine no high winds   \n",
       "660676  Single carriageway               Rural     Fine no high winds   \n",
       "660677  Single carriageway               Rural     Fine no high winds   \n",
       "660678    Dual carriageway               Rural  Snowing no high winds   \n",
       "\n",
       "                                Vehicle_Type  \n",
       "0                                        Car  \n",
       "1                                        Car  \n",
       "2                      Taxi/Private hire car  \n",
       "3       Bus or coach (17 or more pass seats)  \n",
       "4                              Other vehicle  \n",
       "...                                      ...  \n",
       "660674                                   Car  \n",
       "660675                                   Car  \n",
       "660676                                   Car  \n",
       "660677                 Motorcycle over 500cc  \n",
       "660678                                   Car  \n",
       "\n",
       "[660679 rows x 14 columns]"
      ]
     },
     "execution_count": 3,
     "metadata": {},
     "output_type": "execute_result"
    }
   ],
   "source": [
    "accident"
   ]
  },
  {
   "cell_type": "code",
   "execution_count": 4,
   "id": "04305a85-2b8c-4f24-9034-436c86fe104b",
   "metadata": {},
   "outputs": [
    {
     "data": {
      "text/plain": [
       "Index                       object\n",
       "Accident_Severity           object\n",
       "Accident Date               object\n",
       "Latitude                   float64\n",
       "Light_Conditions            object\n",
       "District Area               object\n",
       "Longitude                  float64\n",
       "Number_of_Casualties         int64\n",
       "Number_of_Vehicles           int64\n",
       "Road_Surface_Conditions     object\n",
       "Road_Type                   object\n",
       "Urban_or_Rural_Area         object\n",
       "Weather_Conditions          object\n",
       "Vehicle_Type                object\n",
       "dtype: object"
      ]
     },
     "execution_count": 4,
     "metadata": {},
     "output_type": "execute_result"
    }
   ],
   "source": [
    "accident.dtypes"
   ]
  },
  {
   "cell_type": "code",
   "execution_count": 5,
   "id": "2c86e20e-6ddd-4cd2-968d-5b02d79219dc",
   "metadata": {},
   "outputs": [
    {
     "data": {
      "text/html": [
       "<div>\n",
       "<style scoped>\n",
       "    .dataframe tbody tr th:only-of-type {\n",
       "        vertical-align: middle;\n",
       "    }\n",
       "\n",
       "    .dataframe tbody tr th {\n",
       "        vertical-align: top;\n",
       "    }\n",
       "\n",
       "    .dataframe thead th {\n",
       "        text-align: right;\n",
       "    }\n",
       "</style>\n",
       "<table border=\"1\" class=\"dataframe\">\n",
       "  <thead>\n",
       "    <tr style=\"text-align: right;\">\n",
       "      <th></th>\n",
       "      <th>Latitude</th>\n",
       "      <th>Longitude</th>\n",
       "      <th>Number_of_Casualties</th>\n",
       "      <th>Number_of_Vehicles</th>\n",
       "    </tr>\n",
       "  </thead>\n",
       "  <tbody>\n",
       "    <tr>\n",
       "      <th>count</th>\n",
       "      <td>660654.000000</td>\n",
       "      <td>660653.000000</td>\n",
       "      <td>660679.000000</td>\n",
       "      <td>660679.000000</td>\n",
       "    </tr>\n",
       "    <tr>\n",
       "      <th>mean</th>\n",
       "      <td>52.553866</td>\n",
       "      <td>-1.431210</td>\n",
       "      <td>1.357040</td>\n",
       "      <td>1.831255</td>\n",
       "    </tr>\n",
       "    <tr>\n",
       "      <th>std</th>\n",
       "      <td>1.406922</td>\n",
       "      <td>1.383330</td>\n",
       "      <td>0.824847</td>\n",
       "      <td>0.715269</td>\n",
       "    </tr>\n",
       "    <tr>\n",
       "      <th>min</th>\n",
       "      <td>49.914430</td>\n",
       "      <td>-7.516225</td>\n",
       "      <td>1.000000</td>\n",
       "      <td>1.000000</td>\n",
       "    </tr>\n",
       "    <tr>\n",
       "      <th>25%</th>\n",
       "      <td>51.490690</td>\n",
       "      <td>-2.332291</td>\n",
       "      <td>1.000000</td>\n",
       "      <td>1.000000</td>\n",
       "    </tr>\n",
       "    <tr>\n",
       "      <th>50%</th>\n",
       "      <td>52.315641</td>\n",
       "      <td>-1.411667</td>\n",
       "      <td>1.000000</td>\n",
       "      <td>2.000000</td>\n",
       "    </tr>\n",
       "    <tr>\n",
       "      <th>75%</th>\n",
       "      <td>53.453452</td>\n",
       "      <td>-0.232869</td>\n",
       "      <td>1.000000</td>\n",
       "      <td>2.000000</td>\n",
       "    </tr>\n",
       "    <tr>\n",
       "      <th>max</th>\n",
       "      <td>60.757544</td>\n",
       "      <td>1.762010</td>\n",
       "      <td>68.000000</td>\n",
       "      <td>32.000000</td>\n",
       "    </tr>\n",
       "  </tbody>\n",
       "</table>\n",
       "</div>"
      ],
      "text/plain": [
       "            Latitude      Longitude  Number_of_Casualties  Number_of_Vehicles\n",
       "count  660654.000000  660653.000000         660679.000000       660679.000000\n",
       "mean       52.553866      -1.431210              1.357040            1.831255\n",
       "std         1.406922       1.383330              0.824847            0.715269\n",
       "min        49.914430      -7.516225              1.000000            1.000000\n",
       "25%        51.490690      -2.332291              1.000000            1.000000\n",
       "50%        52.315641      -1.411667              1.000000            2.000000\n",
       "75%        53.453452      -0.232869              1.000000            2.000000\n",
       "max        60.757544       1.762010             68.000000           32.000000"
      ]
     },
     "execution_count": 5,
     "metadata": {},
     "output_type": "execute_result"
    }
   ],
   "source": [
    "accident.describe()"
   ]
  },
  {
   "cell_type": "code",
   "execution_count": 6,
   "id": "e14bf0b8-75a5-4881-a93b-a11f9ef65993",
   "metadata": {},
   "outputs": [
    {
     "data": {
      "text/plain": [
       "Index                          0\n",
       "Accident_Severity              0\n",
       "Accident Date                  0\n",
       "Latitude                      25\n",
       "Light_Conditions               0\n",
       "District Area                  0\n",
       "Longitude                     26\n",
       "Number_of_Casualties           0\n",
       "Number_of_Vehicles             0\n",
       "Road_Surface_Conditions      726\n",
       "Road_Type                   4520\n",
       "Urban_or_Rural_Area           15\n",
       "Weather_Conditions         14128\n",
       "Vehicle_Type                   0\n",
       "dtype: int64"
      ]
     },
     "execution_count": 6,
     "metadata": {},
     "output_type": "execute_result"
    }
   ],
   "source": [
    "accident.isnull().sum()"
   ]
  },
  {
   "cell_type": "code",
   "execution_count": 7,
   "id": "d03943d4-8a9d-4323-9a20-51b15ff8c144",
   "metadata": {},
   "outputs": [],
   "source": [
    "accident['Latitude'] = accident['Latitude'].fillna(accident['Latitude'].mode()[0])\n",
    "accident['Longitude'] = accident['Longitude'].fillna(accident['Longitude'].mode()[0])\n",
    "accident['Road_Surface_Conditions'] = accident['Road_Surface_Conditions'].fillna('unknown surface condition')\n",
    "accident['Road_Type'] = accident['Road_Type'].fillna('unaccounted')\n",
    "accident['Urban_or_Rural_Area'] = accident['Urban_or_Rural_Area'].fillna(accident['Urban_or_Rural_Area'].mode()[0])\n",
    "accident['Weather_Conditions'] = accident['Weather_Conditions'].fillna('unaccounted weather conditions')"
   ]
  },
  {
   "cell_type": "code",
   "execution_count": 8,
   "id": "35914448-1ffa-467a-886b-363ca363f949",
   "metadata": {},
   "outputs": [
    {
     "data": {
      "text/plain": [
       "Index                      0\n",
       "Accident_Severity          0\n",
       "Accident Date              0\n",
       "Latitude                   0\n",
       "Light_Conditions           0\n",
       "District Area              0\n",
       "Longitude                  0\n",
       "Number_of_Casualties       0\n",
       "Number_of_Vehicles         0\n",
       "Road_Surface_Conditions    0\n",
       "Road_Type                  0\n",
       "Urban_or_Rural_Area        0\n",
       "Weather_Conditions         0\n",
       "Vehicle_Type               0\n",
       "dtype: int64"
      ]
     },
     "execution_count": 8,
     "metadata": {},
     "output_type": "execute_result"
    }
   ],
   "source": [
    "accident.isnull().sum()"
   ]
  },
  {
   "cell_type": "code",
   "execution_count": 9,
   "id": "7f125cc6-62be-4774-8db3-9752ca2dcaef",
   "metadata": {},
   "outputs": [
    {
     "data": {
      "text/plain": [
       "Index                       object\n",
       "Accident_Severity           object\n",
       "Accident Date               object\n",
       "Latitude                   float64\n",
       "Light_Conditions            object\n",
       "District Area               object\n",
       "Longitude                  float64\n",
       "Number_of_Casualties         int64\n",
       "Number_of_Vehicles           int64\n",
       "Road_Surface_Conditions     object\n",
       "Road_Type                   object\n",
       "Urban_or_Rural_Area         object\n",
       "Weather_Conditions          object\n",
       "Vehicle_Type                object\n",
       "dtype: object"
      ]
     },
     "execution_count": 9,
     "metadata": {},
     "output_type": "execute_result"
    }
   ],
   "source": [
    "accident.dtypes"
   ]
  },
  {
   "cell_type": "code",
   "execution_count": 10,
   "id": "db7cfe0d-c3dd-4829-aee6-0314a6d5f3d9",
   "metadata": {},
   "outputs": [],
   "source": [
    "accident['Accident Date'] = pd.to_datetime(accident['Accident Date'], dayfirst = True, errors = 'coerce')\n",
    "accident['Accident_Severity'] = accident['Accident_Severity'].astype('category')\n",
    "accident['Index'] = accident['Index'].astype('category')\n",
    "accident['Light_Conditions'] = accident['Light_Conditions'].astype('category')\n",
    "accident['District Area'] = accident['District Area'].astype('category')\n",
    "accident['Road_Surface_Conditions'] = accident['Road_Surface_Conditions'].astype('category').cat.codes\n",
    "accident['Road_Type'] = accident['Road_Type'].astype('category').cat.codes\n",
    "accident['Urban_or_Rural_Area'] = accident['Urban_or_Rural_Area'].astype('category')\n",
    "accident['Weather_Conditions'] = accident['Weather_Conditions'].astype('category')\n",
    "accident['Vehicle_Type'] = accident['Vehicle_Type'].astype('category')\n",
    "accident['Latitude'] = accident['Latitude'].astype('category')\n",
    "accident['Longitude'] = accident['Longitude'].astype('category')"
   ]
  },
  {
   "cell_type": "markdown",
   "id": "174e6698-1b94-4e90-bcb3-7a47384a5f3f",
   "metadata": {},
   "source": [
    "<h1>Extracting date information using pandas date time</h1>"
   ]
  },
  {
   "cell_type": "code",
   "execution_count": 11,
   "id": "1a21c662-4e60-4384-b1ee-ed1fca049426",
   "metadata": {},
   "outputs": [],
   "source": [
    "accident['Year'] = accident['Accident Date'].dt.year\n",
    "accident['Month'] = accident['Accident Date'].dt.month\n",
    "accident['Day'] = accident['Accident Date'].dt.day\n",
    "accident['DayOfWeek'] = accident['Accident Date'].dt.dayofweek"
   ]
  },
  {
   "cell_type": "code",
   "execution_count": 12,
   "id": "cf82ba2c-280a-40d0-a315-6c92cdef27af",
   "metadata": {},
   "outputs": [
    {
     "data": {
      "text/plain": [
       "Index                            category\n",
       "Accident_Severity                category\n",
       "Accident Date              datetime64[ns]\n",
       "Latitude                         category\n",
       "Light_Conditions                 category\n",
       "District Area                    category\n",
       "Longitude                        category\n",
       "Number_of_Casualties                int64\n",
       "Number_of_Vehicles                  int64\n",
       "Road_Surface_Conditions              int8\n",
       "Road_Type                            int8\n",
       "Urban_or_Rural_Area              category\n",
       "Weather_Conditions               category\n",
       "Vehicle_Type                     category\n",
       "Year                                int32\n",
       "Month                               int32\n",
       "Day                                 int32\n",
       "DayOfWeek                           int32\n",
       "dtype: object"
      ]
     },
     "execution_count": 12,
     "metadata": {},
     "output_type": "execute_result"
    }
   ],
   "source": [
    "accident.dtypes"
   ]
  },
  {
   "cell_type": "markdown",
   "id": "f3144a3d-958c-4574-b38e-0b3014b85d09",
   "metadata": {},
   "source": [
    "<h1>Univariate</h1>"
   ]
  },
  {
   "cell_type": "code",
   "execution_count": 13,
   "id": "b216bfe9-8806-468d-86ec-d7cf3fef2863",
   "metadata": {},
   "outputs": [],
   "source": [
    "df_2019 = accident"
   ]
  },
  {
   "cell_type": "markdown",
   "id": "017c2471-4191-49db-ac41-a2191d50fcc4",
   "metadata": {},
   "source": [
    "<h1>Percentage of total accident per light conditions</h1>"
   ]
  },
  {
   "cell_type": "code",
   "execution_count": 14,
   "id": "a2d43d9f-f795-4808-8a57-10b6d1337c7c",
   "metadata": {},
   "outputs": [
    {
     "data": {
      "text/plain": [
       "Light_Conditions\n",
       "Daylight                       484880\n",
       "Darkness - lights lit          129335\n",
       "Darkness - no lighting          37437\n",
       "Darkness - lighting unknown      6484\n",
       "Darkness - lights unlit          2543\n",
       "Name: count, dtype: int64"
      ]
     },
     "execution_count": 14,
     "metadata": {},
     "output_type": "execute_result"
    }
   ],
   "source": [
    "accident['Light_Conditions'].value_counts()"
   ]
  },
  {
   "cell_type": "code",
   "execution_count": 15,
   "id": "fbc40f9c-3093-4be4-a063-f0aadb483a4d",
   "metadata": {},
   "outputs": [
    {
     "data": {
      "text/plain": [
       "660679"
      ]
     },
     "execution_count": 15,
     "metadata": {},
     "output_type": "execute_result"
    }
   ],
   "source": [
    "accident['Light_Conditions'].value_counts().sum()"
   ]
  },
  {
   "cell_type": "markdown",
   "id": "6c4da677-7b45-4a29-9653-073b0b3e7f04",
   "metadata": {},
   "source": [
    "<h1>Insight 1</h1>"
   ]
  },
  {
   "cell_type": "code",
   "execution_count": 16,
   "id": "8aa729f6-742f-4230-8d28-39b1e30b9d66",
   "metadata": {},
   "outputs": [
    {
     "data": {
      "text/plain": [
       "484880"
      ]
     },
     "execution_count": 16,
     "metadata": {},
     "output_type": "execute_result"
    }
   ],
   "source": [
    "accident[accident['Light_Conditions'] == 'Daylight'].value_counts().sum()"
   ]
  },
  {
   "cell_type": "markdown",
   "id": "e57d50f1-5dba-45eb-8053-98da14f9bfd7",
   "metadata": {},
   "source": [
    "<h3>Insight 1.1</h3>\n",
    "<h4>Daylight constitute 73.39% total of accidents</h4>"
   ]
  },
  {
   "cell_type": "markdown",
   "id": "004b2e0c-7050-4f47-be5b-557b08abd010",
   "metadata": {},
   "source": [
    "<h1>Insight 2</h1>"
   ]
  },
  {
   "cell_type": "code",
   "execution_count": 17,
   "id": "47c1e41f-9061-4755-ae6f-2ded38fa6e4a",
   "metadata": {},
   "outputs": [
    {
     "data": {
      "text/plain": [
       "129335"
      ]
     },
     "execution_count": 17,
     "metadata": {},
     "output_type": "execute_result"
    }
   ],
   "source": [
    "accident[accident['Light_Conditions'] == 'Darkness - lights lit'].value_counts().sum()"
   ]
  },
  {
   "cell_type": "markdown",
   "id": "1882ea37-5419-4af0-b96c-1fe9cbe63154",
   "metadata": {},
   "source": [
    "<h3>Insight 2.1</h3>\n",
    "<h4>Darkness - lights lit constitute 19.58% total of accidents</h4>"
   ]
  },
  {
   "cell_type": "markdown",
   "id": "06cc90d7-2711-47a9-b612-0bd93f00036e",
   "metadata": {},
   "source": [
    "<h1>Insight 3</h1>"
   ]
  },
  {
   "cell_type": "code",
   "execution_count": 18,
   "id": "bf8456b8-559c-4589-b738-98e613aa4652",
   "metadata": {},
   "outputs": [
    {
     "data": {
      "text/plain": [
       "37437"
      ]
     },
     "execution_count": 18,
     "metadata": {},
     "output_type": "execute_result"
    }
   ],
   "source": [
    "accident[accident['Light_Conditions'] == 'Darkness - no lighting'].value_counts().sum()"
   ]
  },
  {
   "cell_type": "markdown",
   "id": "dc151095-75d6-4cf5-b226-d6ee89d3d4cd",
   "metadata": {},
   "source": [
    "<h3>Insight 3.1</h3>\n",
    "<h4>Darkness - no lighting constitute 5.67% total of accidents</h4>"
   ]
  },
  {
   "cell_type": "markdown",
   "id": "261aecc3-f2ac-4e2a-8666-523ff52bdee2",
   "metadata": {},
   "source": [
    "<h1>Insight 4</h1>"
   ]
  },
  {
   "cell_type": "code",
   "execution_count": 19,
   "id": "17f5dfcf-a9dd-4d0a-b257-231cda08c7a1",
   "metadata": {},
   "outputs": [
    {
     "data": {
      "text/plain": [
       "6484"
      ]
     },
     "execution_count": 19,
     "metadata": {},
     "output_type": "execute_result"
    }
   ],
   "source": [
    "accident[accident['Light_Conditions'] == 'Darkness - lighting unknown'].value_counts().sum()"
   ]
  },
  {
   "cell_type": "markdown",
   "id": "b649c6b1-0fd2-42f3-8045-e24884ace853",
   "metadata": {},
   "source": [
    "<h3>Insight 4.1</h3>\n",
    "<h4>Darkness - lighting unknown constitute 0.98% total of accidents</h4>"
   ]
  },
  {
   "cell_type": "markdown",
   "id": "e679acab-74ec-4871-ab55-df54fa102744",
   "metadata": {},
   "source": [
    "<h1>Insight 5</h1>"
   ]
  },
  {
   "cell_type": "code",
   "execution_count": 20,
   "id": "6fdf35f1-1e7a-4554-8574-2bd008966c16",
   "metadata": {},
   "outputs": [
    {
     "data": {
      "text/plain": [
       "2543"
      ]
     },
     "execution_count": 20,
     "metadata": {},
     "output_type": "execute_result"
    }
   ],
   "source": [
    "accident[accident['Light_Conditions'] == 'Darkness - lights unlit'].value_counts().sum()"
   ]
  },
  {
   "cell_type": "markdown",
   "id": "7b6a5e9a-e1e6-4923-ae60-d554d963a1aa",
   "metadata": {},
   "source": [
    "<h3>Insight 5.1</h3>\n",
    "<h4>Darkness - lights unlit constitute 0.38% total of accidents</h4>"
   ]
  },
  {
   "cell_type": "markdown",
   "id": "ebc51629-a687-445c-9feb-8da3dd44baaa",
   "metadata": {},
   "source": [
    "<h1>Insight 6: CORRELATION OF NUMBER OF VEHICLES AND NUMBER OF CASUALTIES</h1>"
   ]
  },
  {
   "cell_type": "code",
   "execution_count": 21,
   "id": "70cd08de-7e72-4033-b611-415bcb9d3bbb",
   "metadata": {},
   "outputs": [],
   "source": [
    "n_vehicles = accident['Number_of_Vehicles'].corr(accident['Number_of_Casualties'])"
   ]
  },
  {
   "cell_type": "code",
   "execution_count": 22,
   "id": "375f8584-8ea7-43d4-8291-1495da91be70",
   "metadata": {},
   "outputs": [
    {
     "data": {
      "text/plain": [
       "0.22888886126927557"
      ]
     },
     "execution_count": 22,
     "metadata": {},
     "output_type": "execute_result"
    }
   ],
   "source": [
    "n_vehicles"
   ]
  },
  {
   "cell_type": "markdown",
   "id": "2353acbf-d3d3-427b-bf56-d145319bb285",
   "metadata": {},
   "source": [
    "<h3>Insight 6.1</h3>\n",
    "<h4>There is no correlation between number of vehicles and number of casualties</h4>"
   ]
  },
  {
   "cell_type": "code",
   "execution_count": 23,
   "id": "64c33646-56f3-4c05-bc5b-a372adfacda4",
   "metadata": {},
   "outputs": [
    {
     "data": {
      "text/plain": [
       "Index                            category\n",
       "Accident_Severity                category\n",
       "Accident Date              datetime64[ns]\n",
       "Latitude                         category\n",
       "Light_Conditions                 category\n",
       "District Area                    category\n",
       "Longitude                        category\n",
       "Number_of_Casualties                int64\n",
       "Number_of_Vehicles                  int64\n",
       "Road_Surface_Conditions              int8\n",
       "Road_Type                            int8\n",
       "Urban_or_Rural_Area              category\n",
       "Weather_Conditions               category\n",
       "Vehicle_Type                     category\n",
       "Year                                int32\n",
       "Month                               int32\n",
       "Day                                 int32\n",
       "DayOfWeek                           int32\n",
       "dtype: object"
      ]
     },
     "execution_count": 23,
     "metadata": {},
     "output_type": "execute_result"
    }
   ],
   "source": [
    "accident.dtypes"
   ]
  },
  {
   "cell_type": "markdown",
   "id": "b51b8b2d-ba1e-48f0-b378-263e3ad72bf3",
   "metadata": {},
   "source": [
    "<h1>Insight 7: AVERAGE NUMBER OF CASUALTIES IN YEAR 2019</h1>"
   ]
  },
  {
   "cell_type": "code",
   "execution_count": 24,
   "id": "492fe06b-c149-442a-ae50-81de63234ae8",
   "metadata": {},
   "outputs": [],
   "source": [
    "df_2019 = accident[accident['Year'] == 2019]"
   ]
  },
  {
   "cell_type": "code",
   "execution_count": 25,
   "id": "98b60010-edcd-4fd5-b84c-ffb75e57dc65",
   "metadata": {},
   "outputs": [
    {
     "data": {
      "text/plain": [
       "1.4"
      ]
     },
     "execution_count": 25,
     "metadata": {},
     "output_type": "execute_result"
    }
   ],
   "source": [
    "np.round(df_2019['Number_of_Casualties'].mean(), 1)"
   ]
  },
  {
   "cell_type": "markdown",
   "id": "9c2d7a3a-ebb4-41cb-a199-b5f2cd9583dd",
   "metadata": {},
   "source": [
    "<h3>Insight 7.1</h3>\n",
    "<h4>The average number of casualties in year 2019 is 1.4</h4>"
   ]
  },
  {
   "cell_type": "markdown",
   "id": "77933b35-6c0b-4c40-a504-591916863ef2",
   "metadata": {},
   "source": [
    "<h1>Insight 8: AVERAGE NUMBER OF VEHICLES IN YEAR 2019</h1>"
   ]
  },
  {
   "cell_type": "code",
   "execution_count": 26,
   "id": "64b9d58d-d302-4bf3-844c-25a46afd4ad6",
   "metadata": {},
   "outputs": [],
   "source": [
    "df_2019 = accident[accident['Year'] == 2019]"
   ]
  },
  {
   "cell_type": "code",
   "execution_count": 27,
   "id": "55df57b8-7c18-4f9d-9294-ff23cc9037b2",
   "metadata": {},
   "outputs": [
    {
     "data": {
      "text/plain": [
       "1.8"
      ]
     },
     "execution_count": 27,
     "metadata": {},
     "output_type": "execute_result"
    }
   ],
   "source": [
    "np.round(df_2019['Number_of_Vehicles'].mean(), 1)"
   ]
  },
  {
   "cell_type": "markdown",
   "id": "71ae5cf1-220f-4f73-8684-1bb53d0642a1",
   "metadata": {},
   "source": [
    "<h3>Insight 8.1</h3>\n",
    "<h4>The average number of vehicles in year 2019 is 1.8</h4>"
   ]
  },
  {
   "cell_type": "code",
   "execution_count": 28,
   "id": "dbff1fef-26e2-4327-a911-b54b0a985130",
   "metadata": {},
   "outputs": [
    {
     "data": {
      "text/plain": [
       "Index                            category\n",
       "Accident_Severity                category\n",
       "Accident Date              datetime64[ns]\n",
       "Latitude                         category\n",
       "Light_Conditions                 category\n",
       "District Area                    category\n",
       "Longitude                        category\n",
       "Number_of_Casualties                int64\n",
       "Number_of_Vehicles                  int64\n",
       "Road_Surface_Conditions              int8\n",
       "Road_Type                            int8\n",
       "Urban_or_Rural_Area              category\n",
       "Weather_Conditions               category\n",
       "Vehicle_Type                     category\n",
       "Year                                int32\n",
       "Month                               int32\n",
       "Day                                 int32\n",
       "DayOfWeek                           int32\n",
       "dtype: object"
      ]
     },
     "execution_count": 28,
     "metadata": {},
     "output_type": "execute_result"
    }
   ],
   "source": [
    "accident.dtypes"
   ]
  },
  {
   "cell_type": "markdown",
   "id": "dc6a73e5-c567-456e-be7a-0fc47fd84312",
   "metadata": {},
   "source": [
    "<h1>Insight 9: AVERAGE NUMBER OF CASUALTIES IN URBAN AREA</h1>"
   ]
  },
  {
   "cell_type": "code",
   "execution_count": 29,
   "id": "7b11c113-fa0a-4325-a4f8-4eee427b29bb",
   "metadata": {},
   "outputs": [],
   "source": [
    "urban = accident[accident['Urban_or_Rural_Area'] == 'Urban']"
   ]
  },
  {
   "cell_type": "code",
   "execution_count": 30,
   "id": "5bfbc97c-6f46-4bb0-9a96-32f43cc9bfc6",
   "metadata": {},
   "outputs": [
    {
     "data": {
      "text/plain": [
       "1.3"
      ]
     },
     "execution_count": 30,
     "metadata": {},
     "output_type": "execute_result"
    }
   ],
   "source": [
    "np.round(urban['Number_of_Casualties'].mean(), 1)"
   ]
  },
  {
   "cell_type": "markdown",
   "id": "6ea40be8-2235-491f-8fb7-8b0bf3123570",
   "metadata": {},
   "source": [
    "<h3>Insight 9.1</h3>\n",
    "<h4>The average number of casualties in Urban Area is 1.3</h4>"
   ]
  },
  {
   "cell_type": "markdown",
   "id": "cb74e0df-dba0-4a8a-9e49-9412e7b33007",
   "metadata": {},
   "source": [
    "<h1>Insight 10: AVERAGE NUMBER OF CASUALTIES IN RURAL AREA</h1>"
   ]
  },
  {
   "cell_type": "code",
   "execution_count": 31,
   "id": "79b562cf-dfc9-4218-ad56-76b5b2bde316",
   "metadata": {},
   "outputs": [],
   "source": [
    "rural = accident[accident['Urban_or_Rural_Area'] == 'Rural']"
   ]
  },
  {
   "cell_type": "code",
   "execution_count": 32,
   "id": "1ee5a500-7ede-44b6-8783-460dc41599b1",
   "metadata": {},
   "outputs": [
    {
     "data": {
      "text/plain": [
       "1.5"
      ]
     },
     "execution_count": 32,
     "metadata": {},
     "output_type": "execute_result"
    }
   ],
   "source": [
    "np.round(rural['Number_of_Casualties'].mean(), 1)"
   ]
  },
  {
   "cell_type": "markdown",
   "id": "680e5cc2-35bf-4c03-bcc1-00c023924ec1",
   "metadata": {},
   "source": [
    "<h3>Insight 10.1</h3>\n",
    "<h4>The average number of casualties in Rural Area is 1.5</h4>"
   ]
  },
  {
   "cell_type": "markdown",
   "id": "fc443233-034e-4891-9e27-04476d571c7d",
   "metadata": {},
   "source": [
    "<h1>Insight 11: AVERAGE NUMBER OF CASUALTIES IN SERIOUS SEVERITY</h1>"
   ]
  },
  {
   "cell_type": "code",
   "execution_count": 33,
   "id": "9ac280bf-a786-4c77-bbbf-fd8e1b2a0df2",
   "metadata": {},
   "outputs": [],
   "source": [
    "serious = accident[accident['Accident_Severity'] == 'Serious']"
   ]
  },
  {
   "cell_type": "code",
   "execution_count": 34,
   "id": "845c409f-36ce-4a66-8761-dce956f8cf05",
   "metadata": {},
   "outputs": [
    {
     "data": {
      "text/plain": [
       "1.5"
      ]
     },
     "execution_count": 34,
     "metadata": {},
     "output_type": "execute_result"
    }
   ],
   "source": [
    "np.round(serious['Number_of_Casualties'].mean(), 1)"
   ]
  },
  {
   "cell_type": "markdown",
   "id": "5e8c7949-b7d2-4187-b605-c80c86b4271d",
   "metadata": {},
   "source": [
    "<h3>Insight 11.1</h3>\n",
    "<h4>The average number of casualties in serious accident severity is 1.5</h4>"
   ]
  },
  {
   "cell_type": "code",
   "execution_count": 35,
   "id": "a4dfd429-7ffb-4e40-83cf-209ec4029c9b",
   "metadata": {},
   "outputs": [
    {
     "data": {
      "text/plain": [
       "Accident_Severity\n",
       "Slight     563801\n",
       "Serious     88217\n",
       "Fatal        8661\n",
       "Name: count, dtype: int64"
      ]
     },
     "execution_count": 35,
     "metadata": {},
     "output_type": "execute_result"
    }
   ],
   "source": [
    "accident['Accident_Severity'].value_counts()"
   ]
  },
  {
   "cell_type": "markdown",
   "id": "95e4379f-8f5d-4303-8f3c-4c8967c32e35",
   "metadata": {},
   "source": [
    "<h1>Insight 12: AVERAGE NUMBER OF CASUALTIES IN SLIGHT SEVERITY</h1>"
   ]
  },
  {
   "cell_type": "code",
   "execution_count": 36,
   "id": "520ae614-0bba-4efc-91a0-9558b065ab44",
   "metadata": {},
   "outputs": [],
   "source": [
    "slight = accident[accident['Accident_Severity'] == 'Slight']"
   ]
  },
  {
   "cell_type": "code",
   "execution_count": 37,
   "id": "875db981-5cf0-46b3-8860-09df67e8bbbe",
   "metadata": {},
   "outputs": [
    {
     "data": {
      "text/plain": [
       "1.3"
      ]
     },
     "execution_count": 37,
     "metadata": {},
     "output_type": "execute_result"
    }
   ],
   "source": [
    "np.round(slight['Number_of_Casualties'].mean(), 1)"
   ]
  },
  {
   "cell_type": "markdown",
   "id": "487fb5a0-52e9-4f3d-9ad5-e601bd47bfe9",
   "metadata": {},
   "source": [
    "<h3>Insight 12.1</h3>\n",
    "<h4>The average number of casualties in slight accident severity is 1.3</h4>"
   ]
  },
  {
   "cell_type": "markdown",
   "id": "62ccf5ca-8ec3-429b-a265-af0cbf4b9df0",
   "metadata": {},
   "source": [
    "<h1>Insight 13: AVERAGE NUMBER OF CASUALTIES IN FATAL SEVERITY</h1>"
   ]
  },
  {
   "cell_type": "code",
   "execution_count": 38,
   "id": "6b768f65-5613-4f41-9aab-be8f7d34a474",
   "metadata": {},
   "outputs": [],
   "source": [
    "fatal = accident[accident['Accident_Severity'] == 'Fatal']"
   ]
  },
  {
   "cell_type": "code",
   "execution_count": 39,
   "id": "c8bead3a-757d-4385-a876-ff1dcc258428",
   "metadata": {},
   "outputs": [
    {
     "data": {
      "text/plain": [
       "1.9"
      ]
     },
     "execution_count": 39,
     "metadata": {},
     "output_type": "execute_result"
    }
   ],
   "source": [
    "np.round(fatal['Number_of_Casualties'].mean(), 1)"
   ]
  },
  {
   "cell_type": "markdown",
   "id": "ff3c4e8c-9778-4700-84d1-e0d58cff3e5d",
   "metadata": {},
   "source": [
    "<h3>Insight 13.1</h3>\n",
    "<h4>The average number of casualties in slight accident severity is 1.3</h4>"
   ]
  },
  {
   "cell_type": "markdown",
   "id": "837656c1-072a-4260-a699-7ceed2992c98",
   "metadata": {},
   "source": [
    "<h1>Insight 14: DETERMINE THE AVERAGE NUMBER OF SEVERITY</h1>"
   ]
  },
  {
   "cell_type": "code",
   "execution_count": 40,
   "id": "fe9f591c-3116-48ea-b863-db287c774e52",
   "metadata": {},
   "outputs": [
    {
     "data": {
      "text/plain": [
       "220226.3"
      ]
     },
     "execution_count": 40,
     "metadata": {},
     "output_type": "execute_result"
    }
   ],
   "source": [
    "np.round(accident['Accident_Severity'].value_counts().mean(), 1)"
   ]
  },
  {
   "cell_type": "markdown",
   "id": "988686de-00bc-40f5-be0f-0d44350ccdee",
   "metadata": {},
   "source": [
    "<h3>Insight 14.1</h3>\n",
    "<h4>The average number of accident severity is 220226.3</h4>"
   ]
  },
  {
   "cell_type": "markdown",
   "id": "dd7f4b16-805d-4f6a-a3f5-f837557ec216",
   "metadata": {},
   "source": [
    "<h1>Insight 15: AREA WITH THE HIGHEST NUMBER OF ACCIDENT</h1>"
   ]
  },
  {
   "cell_type": "code",
   "execution_count": 41,
   "id": "5e0c6a53-0129-42a8-a9fa-f742837f13e3",
   "metadata": {},
   "outputs": [
    {
     "data": {
      "text/plain": [
       "Urban_or_Rural_Area\n",
       "Urban          421678\n",
       "Rural          238990\n",
       "Unallocated        11\n",
       "Name: count, dtype: int64"
      ]
     },
     "execution_count": 41,
     "metadata": {},
     "output_type": "execute_result"
    }
   ],
   "source": [
    "accident['Urban_or_Rural_Area'].value_counts()"
   ]
  },
  {
   "cell_type": "markdown",
   "id": "d4770e4e-683f-40d0-895c-3e35d0de1fa9",
   "metadata": {},
   "source": [
    "<h3>Insight 15.1</h3>\n",
    "<h4>The area has the highest number of accident is URBAN AREA</h4>"
   ]
  },
  {
   "cell_type": "markdown",
   "id": "b37877f1-2546-428f-8474-4dc56db40438",
   "metadata": {},
   "source": [
    "<h1>Insight 16: Shows the avearge number of casualties for each weather condition</h1>"
   ]
  },
  {
   "cell_type": "code",
   "execution_count": 42,
   "id": "19222327-3417-4ac1-b689-86c904bc29d3",
   "metadata": {},
   "outputs": [],
   "source": [
    "accident_gby = np.round(accident.groupby(['Weather_Conditions'])['Number_of_Casualties'].mean(), 1)"
   ]
  },
  {
   "cell_type": "code",
   "execution_count": 43,
   "id": "ed75a8c3-3107-430b-b3b2-230c0c4c9179",
   "metadata": {},
   "outputs": [
    {
     "data": {
      "text/plain": [
       "Weather_Conditions\n",
       "Fine + high winds                 1.4\n",
       "Fine no high winds                1.4\n",
       "Fog or mist                       1.5\n",
       "Other                             1.4\n",
       "Raining + high winds              1.4\n",
       "Raining no high winds             1.4\n",
       "Snowing + high winds              1.4\n",
       "Snowing no high winds             1.3\n",
       "unaccounted weather conditions    1.2\n",
       "Name: Number_of_Casualties, dtype: float64"
      ]
     },
     "execution_count": 43,
     "metadata": {},
     "output_type": "execute_result"
    }
   ],
   "source": [
    "accident_gby"
   ]
  },
  {
   "cell_type": "markdown",
   "id": "7a01c9c4-e9ce-48d2-a7bb-93332b2e7362",
   "metadata": {},
   "source": [
    "<h3>Insight 16.1</h3>\n",
    "<h4>The weather condition that has highest average of number of casualties is Fog or mist</h4>"
   ]
  },
  {
   "cell_type": "markdown",
   "id": "90c6bfef-ec15-428e-93d5-bc7739a1ae72",
   "metadata": {},
   "source": [
    "<h1>Insight 17: Reveals how road type and lighting conditions together </h1>"
   ]
  },
  {
   "cell_type": "code",
   "execution_count": 44,
   "id": "3fb4141e-42ae-4008-980f-8ede79e0c78b",
   "metadata": {},
   "outputs": [],
   "source": [
    "accident_gby2 = np.round(accident.groupby(['Road_Type', 'Light_Conditions'])['Number_of_Casualties'].mean(), 1)"
   ]
  },
  {
   "cell_type": "code",
   "execution_count": 45,
   "id": "397e778c-62a2-48c6-8279-ff048de0ac25",
   "metadata": {},
   "outputs": [
    {
     "data": {
      "text/plain": [
       "Road_Type  Light_Conditions           \n",
       "0          Darkness - lighting unknown    1.4\n",
       "           Darkness - lights lit          1.5\n",
       "           Darkness - lights unlit        1.4\n",
       "           Darkness - no lighting         1.6\n",
       "           Daylight                       1.5\n",
       "1          Darkness - lighting unknown    1.2\n",
       "           Darkness - lights lit          1.2\n",
       "           Darkness - lights unlit        1.2\n",
       "           Darkness - no lighting         1.5\n",
       "           Daylight                       1.2\n",
       "2          Darkness - lighting unknown    1.3\n",
       "           Darkness - lights lit          1.3\n",
       "           Darkness - lights unlit        1.3\n",
       "           Darkness - no lighting         1.3\n",
       "           Daylight                       1.3\n",
       "3          Darkness - lighting unknown    1.3\n",
       "           Darkness - lights lit          1.4\n",
       "           Darkness - lights unlit        1.3\n",
       "           Darkness - no lighting         1.5\n",
       "           Daylight                       1.3\n",
       "4          Darkness - lighting unknown    1.3\n",
       "           Darkness - lights lit          1.5\n",
       "           Darkness - lights unlit        1.2\n",
       "           Darkness - no lighting         1.6\n",
       "           Daylight                       1.4\n",
       "5          Darkness - lighting unknown    1.3\n",
       "           Darkness - lights lit          1.3\n",
       "           Darkness - lights unlit        1.3\n",
       "           Darkness - no lighting         1.4\n",
       "           Daylight                       1.2\n",
       "Name: Number_of_Casualties, dtype: float64"
      ]
     },
     "execution_count": 45,
     "metadata": {},
     "output_type": "execute_result"
    }
   ],
   "source": [
    "accident_gby2"
   ]
  },
  {
   "cell_type": "markdown",
   "id": "24439a08-b15f-4130-ae2d-e1a0c06edbc9",
   "metadata": {},
   "source": [
    "<h1>Insight 18: Checks if certain road type are more dangerous</h1>"
   ]
  },
  {
   "cell_type": "code",
   "execution_count": 46,
   "id": "e3e0192c-df9e-4e33-8ec2-2f16552bcb55",
   "metadata": {},
   "outputs": [],
   "source": [
    "r_type = accident['Road_Type'].corr(accident['Number_of_Casualties'])"
   ]
  },
  {
   "cell_type": "code",
   "execution_count": 47,
   "id": "6375ab6d-3b43-43f1-b347-650167458946",
   "metadata": {},
   "outputs": [
    {
     "data": {
      "text/plain": [
       "-0.046366765440545785"
      ]
     },
     "execution_count": 47,
     "metadata": {},
     "output_type": "execute_result"
    }
   ],
   "source": [
    "r_type"
   ]
  },
  {
   "cell_type": "markdown",
   "id": "979c64dd-1f35-4d6e-9d68-41e8a16c2efc",
   "metadata": {},
   "source": [
    "<h3>Insight 18.1</h3>\n",
    "<h4>There is no correlation between the Road Type and Number of Casualties</h4>"
   ]
  },
  {
   "cell_type": "markdown",
   "id": "5f7f16ec-a25f-4c02-ab68-97843acfc2d4",
   "metadata": {},
   "source": [
    "<h1>Insight 19: Finds if road surface conditions results in more casualties</h1>"
   ]
  },
  {
   "cell_type": "code",
   "execution_count": 48,
   "id": "0ccae1d7-c2b2-495e-b810-3de3d559e590",
   "metadata": {},
   "outputs": [],
   "source": [
    "r_surface = accident['Road_Surface_Conditions'].corr(accident['Number_of_Casualties'])"
   ]
  },
  {
   "cell_type": "code",
   "execution_count": 49,
   "id": "f52776da-cf89-4952-8487-aabdcadf3204",
   "metadata": {},
   "outputs": [
    {
     "data": {
      "text/plain": [
       "0.04040241372013362"
      ]
     },
     "execution_count": 49,
     "metadata": {},
     "output_type": "execute_result"
    }
   ],
   "source": [
    "r_surface "
   ]
  },
  {
   "cell_type": "markdown",
   "id": "24d1e180-051b-4a5d-b420-45645058b069",
   "metadata": {},
   "source": [
    "<h3>Insight 19.1</h3>\n",
    "<h4>There is no correlation between the Road Surface Conditions and Number of Casualties</h4>"
   ]
  },
  {
   "cell_type": "markdown",
   "id": "60be45f3-9048-4017-b251-2c9abc820c25",
   "metadata": {},
   "source": [
    "<h1>Insight 20: Identify which type of vehicles are most involved in accidents</h1>"
   ]
  },
  {
   "cell_type": "code",
   "execution_count": 50,
   "id": "e0ac7d72-5957-4ab4-8703-c19a35b1d158",
   "metadata": {},
   "outputs": [],
   "source": [
    "accident_gby3 = accident.groupby('Vehicle_Type').size()"
   ]
  },
  {
   "cell_type": "code",
   "execution_count": 51,
   "id": "ac6682d7-f322-4b5c-b252-d9558c64a8b2",
   "metadata": {},
   "outputs": [
    {
     "data": {
      "text/plain": [
       "Vehicle_Type\n",
       "Agricultural vehicle                       1947\n",
       "Bus or coach (17 or more pass seats)      25878\n",
       "Car                                      497992\n",
       "Data missing or out of range                  6\n",
       "Goods 7.5 tonnes mgw and over             17307\n",
       "Goods over 3.5t. and under 7.5t            6096\n",
       "Minibus (8 - 16 passenger seats)           1976\n",
       "Motorcycle 125cc and under                15269\n",
       "Motorcycle 50cc and under                  7603\n",
       "Motorcycle over 125cc and up to 500cc      7656\n",
       "Motorcycle over 500cc                     25657\n",
       "Other vehicle                              5637\n",
       "Pedal cycle                                 197\n",
       "Ridden horse                                  4\n",
       "Taxi/Private hire car                     13294\n",
       "Van / Goods 3.5 tonnes mgw or under       34160\n",
       "dtype: int64"
      ]
     },
     "execution_count": 51,
     "metadata": {},
     "output_type": "execute_result"
    }
   ],
   "source": [
    "accident_gby3"
   ]
  },
  {
   "cell_type": "markdown",
   "id": "9c315d06-8fee-4499-b82c-da214861f7f1",
   "metadata": {},
   "source": [
    "<h3>Insight 20.1</h3>\n",
    "<h4>The type of vehicle that is most involved in accidents is Car</h4>"
   ]
  },
  {
   "cell_type": "markdown",
   "id": "5c058689-befe-4c30-af09-a9aaac55318b",
   "metadata": {},
   "source": [
    "<h1>Insight 21</h1>"
   ]
  },
  {
   "cell_type": "code",
   "execution_count": 52,
   "id": "219a146a-3016-4c94-9df4-d25dba7317f1",
   "metadata": {},
   "outputs": [],
   "source": [
    "r_type1 = accident['Road_Type'].corr(accident['Month'])"
   ]
  },
  {
   "cell_type": "code",
   "execution_count": 53,
   "id": "e799ff37-219c-40fc-9edd-58f42a2de06e",
   "metadata": {},
   "outputs": [
    {
     "data": {
      "text/plain": [
       "-0.005017625800895972"
      ]
     },
     "execution_count": 53,
     "metadata": {},
     "output_type": "execute_result"
    }
   ],
   "source": [
    "r_type1"
   ]
  },
  {
   "cell_type": "markdown",
   "id": "8f95f707-a8e1-422c-9063-d1eb04532925",
   "metadata": {},
   "source": [
    "<h3>Insight 21.1</h3>\n",
    "<h4>There is no correlation between road type and month</h4>"
   ]
  },
  {
   "cell_type": "markdown",
   "id": "6e5baa25-2dcd-4457-aa0d-923125313747",
   "metadata": {},
   "source": [
    "<h1>Insight 22</h1>"
   ]
  },
  {
   "cell_type": "code",
   "execution_count": null,
   "id": "f7659bd8-7099-4b8e-8359-558ddaa11bf7",
   "metadata": {},
   "outputs": [],
   "source": []
  }
 ],
 "metadata": {
  "kernelspec": {
   "display_name": "Python 3 (ipykernel)",
   "language": "python",
   "name": "python3"
  },
  "language_info": {
   "codemirror_mode": {
    "name": "ipython",
    "version": 3
   },
   "file_extension": ".py",
   "mimetype": "text/x-python",
   "name": "python",
   "nbconvert_exporter": "python",
   "pygments_lexer": "ipython3",
   "version": "3.11.3"
  }
 },
 "nbformat": 4,
 "nbformat_minor": 5
}
